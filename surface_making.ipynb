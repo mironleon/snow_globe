{
 "cells": [
  {
   "cell_type": "code",
   "execution_count": null,
   "id": "2c5345fa-900c-4d41-bc4a-f33c255f0ebf",
   "metadata": {},
   "outputs": [],
   "source": [
    "import k3d\n",
    "import numpy as np\n",
    "import numpy.typing as npt\n",
    "from scipy.spatial import Delaunay"
   ]
  },
  {
   "cell_type": "code",
   "execution_count": null,
   "id": "b7eba858-af49-4228-a96d-960cc4f9daab",
   "metadata": {},
   "outputs": [],
   "source": [
    "def create_grid(size: int) -> npt.NDArray[np.integer]:\n",
    "    pos = np.zeros((size**2, 3))\n",
    "    x = np.arange(size)\n",
    "    y = np.arange(size)\n",
    "    xx, yy = np.meshgrid(x, y)\n",
    "    pos[:, :2] = np.array((xx.ravel(), yy.ravel())).T\n",
    "    return pos\n",
    "\n",
    "\n",
    "def create_height_data(size: int) -> npt.NDArray[np.float32]:\n",
    "    z_matrix = np.zeros((size, size))\n",
    "    for _ in range(100):\n",
    "        width = int(0.4 * size * np.random.rand())\n",
    "        peak_size = int(0.02 * size * np.random.rand())\n",
    "        i, j = np.random.randint(0, size - width, size=2)\n",
    "        z_matrix[i : i + width, j : j + width] += create_gaussian_peak(\n",
    "            width=width, height=peak_size, size=width\n",
    "        )\n",
    "    for _ in range(200):\n",
    "        width = int(0.4 * size * np.random.rand())\n",
    "        peak_size = int(0.01 * size * np.random.rand())\n",
    "        i, j = np.random.randint(0, size - width, size=2)\n",
    "        z_matrix[i : i + width, j : j + width] += create_gaussian_peak(\n",
    "            width=width, height=peak_size, size=width\n",
    "        )\n",
    "    return z_matrix\n",
    "\n",
    "\n",
    "def create_gaussian_peak(\n",
    "    height: float, width: float, size: int = 5\n",
    ") -> npt.NDArray[np.float32]:\n",
    "    # size preferably an odd number\n",
    "    center = int(size / 2)\n",
    "    grid = create_grid(size=size)[:, :2]\n",
    "    d = np.linalg.norm(grid - center, axis=1)\n",
    "    gaussian = height * np.exp(-(d**2) / (2 * width))\n",
    "    return gaussian.reshape(size, size)\n",
    "\n",
    "\n",
    "def create_mesh_indices(size: int):\n",
    "    row_indices = []\n",
    "\n",
    "    for i in range(0, size - 1, 1):\n",
    "        row_indices.append([i, i + 1, i + size])\n",
    "        row_indices.append([i + 1, i + size + 1, i + size])\n",
    "\n",
    "    row_indices = np.array(row_indices)\n",
    "    indices = np.zeros(((size - 1) ** 2 * 2, 3))\n",
    "    for i in range(0, size - 1):\n",
    "        indices[i * (size - 1) * 2 : (i + 1) * (size - 1) * 2] = row_indices + i * size\n",
    "    return indices"
   ]
  },
  {
   "cell_type": "code",
   "execution_count": null,
   "id": "5ad0d39f-2a34-445f-9907-c87fd7c10ce9",
   "metadata": {},
   "outputs": [],
   "source": [
    "grid_size = 3200\n",
    "grid = create_grid(grid_size)\n",
    "z = create_height_data(grid_size)\n",
    "indices = create_mesh_indices(grid_size)\n",
    "grid[:, 2] = z.ravel()"
   ]
  },
  {
   "cell_type": "code",
   "execution_count": null,
   "id": "4b91ba2f-e400-4fc2-bc33-c4e9ac376d80",
   "metadata": {},
   "outputs": [],
   "source": [
    "plot = k3d.plot(grid_visible=False, height=1000)\n",
    "\n",
    "plot += k3d.mesh(\n",
    "    vertices=grid, indices=indices, side=\"double\", wireframe=False, flat_shading=True\n",
    ")\n",
    "# plot += k3d.points(grid, color=int(\"FF0000\", 16), point_size=0.5)\n",
    "plot"
   ]
  },
  {
   "cell_type": "code",
   "execution_count": null,
   "id": "81ee79d3-35df-465e-8ba7-f82d6ad46c7e",
   "metadata": {},
   "outputs": [],
   "source": []
  }
 ],
 "metadata": {
  "kernelspec": {
   "display_name": "Python 3 (ipykernel)",
   "language": "python",
   "name": "python3"
  },
  "language_info": {
   "codemirror_mode": {
    "name": "ipython",
    "version": 3
   },
   "file_extension": ".py",
   "mimetype": "text/x-python",
   "name": "python",
   "nbconvert_exporter": "python",
   "pygments_lexer": "ipython3",
   "version": "3.10.4"
  }
 },
 "nbformat": 4,
 "nbformat_minor": 5
}
